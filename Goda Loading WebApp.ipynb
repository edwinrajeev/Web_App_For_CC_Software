{
 "cells": [
  {
   "cell_type": "code",
   "execution_count": 2,
   "id": "c2bc4b98",
   "metadata": {},
   "outputs": [],
   "source": [
    "import numpy as np\n",
    "import matplotlib.pyplot as plt\n",
    "from ipywidgets import interactive, HBox,Layout,Button,GridspecLayout"
   ]
  },
  {
   "cell_type": "code",
   "execution_count": 3,
   "id": "f3f7bd01",
   "metadata": {},
   "outputs": [],
   "source": [
    "plt.style.use('ggplot')"
   ]
  },
  {
   "cell_type": "code",
   "execution_count": 4,
   "id": "c4589057",
   "metadata": {},
   "outputs": [],
   "source": [
    "def sinwave(A, f, phi,color):\n",
    "    # set up plot\n",
    "    fig, ax = plt.subplots(figsize=(10,4))\n",
    "    ax.set_ylim([-4, 4])\n",
    "    ax.grid(True)\n",
    "    ax.set_xlabel('X')\n",
    "    ax.set_ylabel('Sine Wave')\n",
    "    ax.set_title('Sine Wave Widget for Interactive Plot')\n",
    "\n",
    "    # fig.canvas.toolbar_position = 'bottom' # set zoom-able and resize-able under the figure\n",
    "    fig.canvas.header_visible = False # Hide the Figure name at the top of the figure\n",
    "\n",
    "    # generate x values\n",
    "    x = np.linspace(0, 2 * np.pi, 100)\n",
    "    y = A*np.sin(x*f + phi);\n",
    "\n",
    "    ax.plot(x,y,color)"
   ]
  },
  {
   "cell_type": "code",
   "execution_count": 5,
   "id": "0bbcd575",
   "metadata": {},
   "outputs": [],
   "source": [
    "colors = ['blue', 'red', 'orange']\n"
   ]
  },
  {
   "cell_type": "code",
   "execution_count": 6,
   "id": "eb4131ea",
   "metadata": {},
   "outputs": [],
   "source": [
    "widget = interactive(sinwave,A=(0, 4, .1),f=(0, 10, 1), phi=(0, 2, 0.5),color=colors)"
   ]
  },
  {
   "cell_type": "code",
   "execution_count": 7,
   "id": "89cfc17e",
   "metadata": {},
   "outputs": [],
   "source": [
    "controls = HBox(widget.children[:-1], layout = Layout(flex_flow='column wrap'),width='auto', height='auto')\n",
    "output = widget.children[-1]\n"
   ]
  },
  {
   "cell_type": "code",
   "execution_count": 9,
   "id": "f5756ed7",
   "metadata": {},
   "outputs": [],
   "source": [
    "def create_expanded_button(description, button_style):\n",
    "    return Button(description=description, button_style=button_style, layout=Layout(height='auto', width='auto'))"
   ]
  },
  {
   "cell_type": "code",
   "execution_count": 10,
   "id": "ae3ed1e6",
   "metadata": {},
   "outputs": [
    {
     "data": {
      "application/vnd.jupyter.widget-view+json": {
       "model_id": "a8a08fa858724980a889462fa0e93b38",
       "version_major": 2,
       "version_minor": 0
      },
      "text/plain": [
       "GridspecLayout(children=(Button(button_style='success', description='Sine Web Plot App', layout=Layout(grid_ar…"
      ]
     },
     "metadata": {},
     "output_type": "display_data"
    }
   ],
   "source": [
    "# use GridspecLayout to define the widget layout\n",
    "grid = GridspecLayout(10, 6, height='500px')\n",
    "grid[0,:] = create_expanded_button('Sine Web Plot App', 'success')\n",
    "grid[2:8, 0:2] = controls\n",
    "grid[1:9, 2:] = output\n",
    "grid[9,:] = create_expanded_button('\\xa9 2021 Copyright Shouke Wei', 'info')\n",
    "\n",
    "grid"
   ]
  }
 ],
 "metadata": {
  "kernelspec": {
   "display_name": "Python 3 (ipykernel)",
   "language": "python",
   "name": "python3"
  },
  "language_info": {
   "codemirror_mode": {
    "name": "ipython",
    "version": 3
   },
   "file_extension": ".py",
   "mimetype": "text/x-python",
   "name": "python",
   "nbconvert_exporter": "python",
   "pygments_lexer": "ipython3",
   "version": "3.10.9"
  }
 },
 "nbformat": 4,
 "nbformat_minor": 5
}
